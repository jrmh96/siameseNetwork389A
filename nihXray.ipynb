{
  "nbformat": 4,
  "nbformat_minor": 0,
  "metadata": {
    "colab": {
      "name": "nihXray.ipynb",
      "version": "0.3.2",
      "provenance": [],
      "collapsed_sections": []
    },
    "kernelspec": {
      "name": "python3",
      "display_name": "Python 3"
    },
    "accelerator": "GPU"
  },
  "cells": [
    {
      "cell_type": "markdown",
      "metadata": {
        "id": "view-in-github",
        "colab_type": "text"
      },
      "source": [
        "[View in Colaboratory](https://colab.research.google.com/github/jrmh96/x-ray-classification/blob/master/nihXray.ipynb)"
      ]
    },
    {
      "metadata": {
        "id": "eJ66GJI2RbfB",
        "colab_type": "code",
        "colab": {
          "base_uri": "https://localhost:8080/",
          "height": 34
        },
        "outputId": "94104df0-8191-445c-8537-dda9ecfee307"
      },
      "cell_type": "code",
      "source": [
        "import matplotlib\n",
        "\n",
        "# import the necessary packages\n",
        "import pandas as pd\n",
        "from keras.preprocessing.image import ImageDataGenerator\n",
        "from keras.optimizers import SGD\n",
        "from keras.preprocessing.image import img_to_array\n",
        "from sklearn.preprocessing import MultiLabelBinarizer\n",
        "from sklearn.model_selection import train_test_split\n",
        "import matplotlib.pyplot as plt\n",
        "import numpy as np\n",
        "import argparse\n",
        "import random\n",
        "import pickle\n",
        "import cv2\n",
        "import os"
      ],
      "execution_count": 1,
      "outputs": [
        {
          "output_type": "stream",
          "text": [
            "Using TensorFlow backend.\n"
          ],
          "name": "stderr"
        }
      ]
    },
    {
      "metadata": {
        "id": "nJI6puhHrRUM",
        "colab_type": "text"
      },
      "cell_type": "markdown",
      "source": [
        "Reproducibility:"
      ]
    },
    {
      "metadata": {
        "id": "L15X8rgHpvhA",
        "colab_type": "code",
        "colab": {}
      },
      "cell_type": "code",
      "source": [
        "test_split = 0.3\n",
        "R = 125"
      ],
      "execution_count": 0,
      "outputs": []
    },
    {
      "metadata": {
        "id": "HaZ7-7299u5S",
        "colab_type": "code",
        "colab": {}
      },
      "cell_type": "code",
      "source": [
        "!pip3 install -U -q PyDrive"
      ],
      "execution_count": 0,
      "outputs": []
    },
    {
      "metadata": {
        "id": "_KB7e3bWqPyy",
        "colab_type": "code",
        "colab": {}
      },
      "cell_type": "code",
      "source": [
        "import os\n",
        "from pydrive.auth import GoogleAuth\n",
        "from pydrive.drive import GoogleDrive\n",
        "from google.colab import auth\n",
        "from oauth2client.client import GoogleCredentials\n",
        "from nltk.corpus import stopwords"
      ],
      "execution_count": 0,
      "outputs": []
    },
    {
      "metadata": {
        "id": "n7XiuOj5rrpO",
        "colab_type": "text"
      },
      "cell_type": "markdown",
      "source": [
        "Load in training set: "
      ]
    },
    {
      "metadata": {
        "id": "I9PQB84Fq1Fr",
        "colab_type": "code",
        "colab": {
          "base_uri": "https://localhost:8080/",
          "height": 292
        },
        "outputId": "09cac062-7c65-4c2a-9a70-467569745b2b"
      },
      "cell_type": "code",
      "source": [
        "auth.authenticate_user()\n",
        "gauth = GoogleAuth()\n",
        "gauth.credentials = GoogleCredentials.get_application_default()\n",
        "drive = GoogleDrive(gauth)\n",
        "# choose a local (colab) directory to store the data.\n",
        "local_download_path = os.path.expanduser('~/data')\n",
        "try:\n",
        "  os.makedirs(local_download_path)\n",
        "except: pass\n",
        "\n",
        "csv = drive.CreateFile({'id':'1Lc9k3ZSw416x-85reaBGtR4yq9QEkrWl'})\n",
        "\n",
        "fname = local_download_path + '/'+'sample_label.csv'\n",
        "\n",
        "print('downloading csv to: {}'.format(fname))\n",
        "\n",
        "csv.GetContentFile(fname)\n",
        "\n",
        "print(\"csv done\")\n",
        "file_list = drive.ListFile(\n",
        "    {'q': \"'1RvsaK1SUdZXL8JL-Z-aD3qevw-1UP5kQ' in parents and trashed=false\"}).GetList()\n",
        "print(\"Starting pictures download: \")\n",
        "i=0\n",
        "for f in file_list:\n",
        "  # 3. Create & download by id.\n",
        "  #print('title: %s, id: %s' % (f['title'], f['id']))\n",
        "  fname = os.path.join(local_download_path, f['title'])\n",
        "  #print('downloading to {}'.format(fname))\n",
        "  try:\n",
        "    if i % 1000 == 0:\n",
        "      print('downloading picture {} to {}'.format(i, fname))\n",
        "      print(f)\n",
        "    f_ = drive.CreateFile({'id': f['id']})\n",
        "    f_.GetContentFile(fname)\n",
        "  #print(\"done\")\n",
        "    i+=1\n",
        "  except ApiRequestError:\n",
        "    print(f)"
      ],
      "execution_count": 6,
      "outputs": [
        {
          "output_type": "stream",
          "text": [
            "downloading csv to: /content/data/sample_label.csv\n",
            "csv done\n",
            "Starting pictures download: \n",
            "downloading picture 0 to /content/data/00002290_000.png\n",
            "GoogleDriveFile({'kind': 'drive#file', 'id': '14ycihKFo2k8Jss83TIPTpL9u93f_g0aJ', 'etag': '\"x-uqYhsK1l_Hqse_91gdlDRJ7wk/MTUyNTgyNDk2NDY0OQ\"', 'selfLink': 'https://www.googleapis.com/drive/v2/files/14ycihKFo2k8Jss83TIPTpL9u93f_g0aJ', 'webContentLink': 'https://drive.google.com/uc?id=14ycihKFo2k8Jss83TIPTpL9u93f_g0aJ&export=download', 'alternateLink': 'https://drive.google.com/file/d/14ycihKFo2k8Jss83TIPTpL9u93f_g0aJ/view?usp=drivesdk', 'embedLink': 'https://drive.google.com/file/d/14ycihKFo2k8Jss83TIPTpL9u93f_g0aJ/preview?usp=drivesdk', 'iconLink': 'https://drive-thirdparty.googleusercontent.com/16/type/image/png', 'thumbnailLink': 'https://lh3.googleusercontent.com/3FQc1vNut6rBJZAzMRQN3nSIBJV0wzsYWLCnTnW3A7K3Plf6sovqqE7_PbhmQ6GeAKGoiKeVrh8=s220', 'title': '00002290_000.png', 'mimeType': 'image/png', 'labels': {'starred': False, 'hidden': False, 'trashed': False, 'restricted': False, 'viewed': True}, 'createdDate': '2018-05-09T00:16:04.649Z', 'modifiedDate': '2018-05-09T00:16:04.649Z', 'modifiedByMeDate': '2018-05-09T00:16:04.649Z', 'lastViewedByMeDate': '2018-05-09T00:16:04.649Z', 'markedViewedByMeDate': '1970-01-01T00:00:00.000Z', 'version': '2', 'parents': [{'kind': 'drive#parentReference', 'id': '1RvsaK1SUdZXL8JL-Z-aD3qevw-1UP5kQ', 'selfLink': 'https://www.googleapis.com/drive/v2/files/14ycihKFo2k8Jss83TIPTpL9u93f_g0aJ/parents/1RvsaK1SUdZXL8JL-Z-aD3qevw-1UP5kQ', 'parentLink': 'https://www.googleapis.com/drive/v2/files/1RvsaK1SUdZXL8JL-Z-aD3qevw-1UP5kQ', 'isRoot': False}], 'downloadUrl': 'https://doc-08-1s-docs.googleusercontent.com/docs/securesc/efdd6losh6vkprdpbe1k3g8tr9luob7o/cv49ne2ut8nnckdjlc7b98ou6l8urmgr/1526155200000/06964386243648299032/06964386243648299032/14ycihKFo2k8Jss83TIPTpL9u93f_g0aJ?e=download&gd=true', 'userPermission': {'kind': 'drive#permission', 'etag': '\"x-uqYhsK1l_Hqse_91gdlDRJ7wk/B5yemZbd6KVldi3HvA1nw1MhE_U\"', 'id': 'me', 'selfLink': 'https://www.googleapis.com/drive/v2/files/14ycihKFo2k8Jss83TIPTpL9u93f_g0aJ/permissions/me', 'role': 'owner', 'type': 'user'}, 'originalFilename': '00002290_000.png', 'fileExtension': 'png', 'md5Checksum': '267fe7385c8ada12940ee6bd2c8db584', 'fileSize': '421388', 'quotaBytesUsed': '421388', 'ownerNames': ['Jeremy Hu'], 'owners': [{'kind': 'drive#user', 'displayName': 'Jeremy Hu', 'picture': {'url': 'https://lh6.googleusercontent.com/-9u_PQxQgXPQ/AAAAAAAAAAI/AAAAAAAAAQM/tfpCWK31OW4/s64/photo.jpg'}, 'isAuthenticatedUser': True, 'permissionId': '06964386243648299032', 'emailAddress': 'jrmh96@gmail.com'}], 'lastModifyingUserName': 'Jeremy Hu', 'lastModifyingUser': {'kind': 'drive#user', 'displayName': 'Jeremy Hu', 'picture': {'url': 'https://lh6.googleusercontent.com/-9u_PQxQgXPQ/AAAAAAAAAAI/AAAAAAAAAQM/tfpCWK31OW4/s64/photo.jpg'}, 'isAuthenticatedUser': True, 'permissionId': '06964386243648299032', 'emailAddress': 'jrmh96@gmail.com'}, 'capabilities': {'canCopy': True, 'canEdit': True}, 'editable': True, 'copyable': True, 'writersCanShare': True, 'shared': False, 'explicitlyTrashed': False, 'appDataContents': False, 'headRevisionId': '0B1G24Bl3O_IpN2hzWStvbno4OFYzakJDT3NnRnhrN1EwOUVZPQ', 'imageMediaMetadata': {'width': 1024, 'height': 1024, 'rotation': 0}, 'spaces': ['drive']})\n",
            "downloading picture 1000 to /content/data/00005538_001.png\n",
            "GoogleDriveFile({'kind': 'drive#file', 'id': '13eC7-4NyRoeWThf20RAKWlIQsfejhLY2', 'etag': '\"x-uqYhsK1l_Hqse_91gdlDRJ7wk/MTUyNTgyNDU2NjI3NA\"', 'selfLink': 'https://www.googleapis.com/drive/v2/files/13eC7-4NyRoeWThf20RAKWlIQsfejhLY2', 'webContentLink': 'https://drive.google.com/uc?id=13eC7-4NyRoeWThf20RAKWlIQsfejhLY2&export=download', 'alternateLink': 'https://drive.google.com/file/d/13eC7-4NyRoeWThf20RAKWlIQsfejhLY2/view?usp=drivesdk', 'embedLink': 'https://drive.google.com/file/d/13eC7-4NyRoeWThf20RAKWlIQsfejhLY2/preview?usp=drivesdk', 'iconLink': 'https://drive-thirdparty.googleusercontent.com/16/type/image/png', 'thumbnailLink': 'https://lh3.googleusercontent.com/hm7xqtuDL6nIwtdJuDilgXdQfkhRKFMadQr6NZumwi1rpCVcocx6i9KSAGHZn0QHq290yc63smo=s220', 'title': '00005538_001.png', 'mimeType': 'image/png', 'labels': {'starred': False, 'hidden': False, 'trashed': False, 'restricted': False, 'viewed': True}, 'createdDate': '2018-05-09T00:09:26.274Z', 'modifiedDate': '2018-05-09T00:09:26.274Z', 'modifiedByMeDate': '2018-05-09T00:09:26.274Z', 'lastViewedByMeDate': '2018-05-09T00:09:26.274Z', 'markedViewedByMeDate': '1970-01-01T00:00:00.000Z', 'version': '2', 'parents': [{'kind': 'drive#parentReference', 'id': '1RvsaK1SUdZXL8JL-Z-aD3qevw-1UP5kQ', 'selfLink': 'https://www.googleapis.com/drive/v2/files/13eC7-4NyRoeWThf20RAKWlIQsfejhLY2/parents/1RvsaK1SUdZXL8JL-Z-aD3qevw-1UP5kQ', 'parentLink': 'https://www.googleapis.com/drive/v2/files/1RvsaK1SUdZXL8JL-Z-aD3qevw-1UP5kQ', 'isRoot': False}], 'downloadUrl': 'https://doc-04-1s-docs.googleusercontent.com/docs/securesc/efdd6losh6vkprdpbe1k3g8tr9luob7o/krgscnjk1mdou22pqmp179nvdvul085a/1526155200000/06964386243648299032/06964386243648299032/13eC7-4NyRoeWThf20RAKWlIQsfejhLY2?e=download&gd=true', 'userPermission': {'kind': 'drive#permission', 'etag': '\"x-uqYhsK1l_Hqse_91gdlDRJ7wk/ZMqxN4pVxgB7VlAETcqK5NAZ8PU\"', 'id': 'me', 'selfLink': 'https://www.googleapis.com/drive/v2/files/13eC7-4NyRoeWThf20RAKWlIQsfejhLY2/permissions/me', 'role': 'owner', 'type': 'user'}, 'originalFilename': '00005538_001.png', 'fileExtension': 'png', 'md5Checksum': 'a7f9fe4ea23b2255600eede48c64e4b1', 'fileSize': '412550', 'quotaBytesUsed': '412550', 'ownerNames': ['Jeremy Hu'], 'owners': [{'kind': 'drive#user', 'displayName': 'Jeremy Hu', 'picture': {'url': 'https://lh6.googleusercontent.com/-9u_PQxQgXPQ/AAAAAAAAAAI/AAAAAAAAAQM/tfpCWK31OW4/s64/photo.jpg'}, 'isAuthenticatedUser': True, 'permissionId': '06964386243648299032', 'emailAddress': 'jrmh96@gmail.com'}], 'lastModifyingUserName': 'Jeremy Hu', 'lastModifyingUser': {'kind': 'drive#user', 'displayName': 'Jeremy Hu', 'picture': {'url': 'https://lh6.googleusercontent.com/-9u_PQxQgXPQ/AAAAAAAAAAI/AAAAAAAAAQM/tfpCWK31OW4/s64/photo.jpg'}, 'isAuthenticatedUser': True, 'permissionId': '06964386243648299032', 'emailAddress': 'jrmh96@gmail.com'}, 'capabilities': {'canCopy': True, 'canEdit': True}, 'editable': True, 'copyable': True, 'writersCanShare': True, 'shared': False, 'explicitlyTrashed': False, 'appDataContents': False, 'headRevisionId': '0B1G24Bl3O_IpT1F1bjhVYnhyU2tkc0xHeG43TmhHUU00SzZzPQ', 'imageMediaMetadata': {'width': 1024, 'height': 1024, 'rotation': 0}, 'spaces': ['drive']})\n",
            "downloading picture 2000 to /content/data/00016122_008.png\n",
            "GoogleDriveFile({'kind': 'drive#file', 'id': '1i--7PUOStiIaHsRFTSDV6YI9355Y3h4R', 'etag': '\"x-uqYhsK1l_Hqse_91gdlDRJ7wk/MTUyNTgyNDEzMjE4OA\"', 'selfLink': 'https://www.googleapis.com/drive/v2/files/1i--7PUOStiIaHsRFTSDV6YI9355Y3h4R', 'webContentLink': 'https://drive.google.com/uc?id=1i--7PUOStiIaHsRFTSDV6YI9355Y3h4R&export=download', 'alternateLink': 'https://drive.google.com/file/d/1i--7PUOStiIaHsRFTSDV6YI9355Y3h4R/view?usp=drivesdk', 'embedLink': 'https://drive.google.com/file/d/1i--7PUOStiIaHsRFTSDV6YI9355Y3h4R/preview?usp=drivesdk', 'iconLink': 'https://drive-thirdparty.googleusercontent.com/16/type/image/png', 'thumbnailLink': 'https://lh3.googleusercontent.com/D5KtVPYfYw1zOrL4WKr-Rbt-O_4wsfYx5Ysd5h2dVrIHEQaJo_Cz5_ygnxoAjXanrBCZkHEbiqI=s220', 'title': '00016122_008.png', 'mimeType': 'image/png', 'labels': {'starred': False, 'hidden': False, 'trashed': False, 'restricted': False, 'viewed': True}, 'createdDate': '2018-05-09T00:02:12.188Z', 'modifiedDate': '2018-05-09T00:02:12.188Z', 'modifiedByMeDate': '2018-05-09T00:02:12.188Z', 'lastViewedByMeDate': '2018-05-09T00:02:12.188Z', 'markedViewedByMeDate': '1970-01-01T00:00:00.000Z', 'version': '2', 'parents': [{'kind': 'drive#parentReference', 'id': '1RvsaK1SUdZXL8JL-Z-aD3qevw-1UP5kQ', 'selfLink': 'https://www.googleapis.com/drive/v2/files/1i--7PUOStiIaHsRFTSDV6YI9355Y3h4R/parents/1RvsaK1SUdZXL8JL-Z-aD3qevw-1UP5kQ', 'parentLink': 'https://www.googleapis.com/drive/v2/files/1RvsaK1SUdZXL8JL-Z-aD3qevw-1UP5kQ', 'isRoot': False}], 'downloadUrl': 'https://doc-00-1s-docs.googleusercontent.com/docs/securesc/efdd6losh6vkprdpbe1k3g8tr9luob7o/t47hkhfaticcgjgk72t1msvnvpqup2vs/1526155200000/06964386243648299032/06964386243648299032/1i--7PUOStiIaHsRFTSDV6YI9355Y3h4R?e=download&gd=true', 'userPermission': {'kind': 'drive#permission', 'etag': '\"x-uqYhsK1l_Hqse_91gdlDRJ7wk/IQjWd3rGWdM2w2tNi3xBJu62dZg\"', 'id': 'me', 'selfLink': 'https://www.googleapis.com/drive/v2/files/1i--7PUOStiIaHsRFTSDV6YI9355Y3h4R/permissions/me', 'role': 'owner', 'type': 'user'}, 'originalFilename': '00016122_008.png', 'fileExtension': 'png', 'md5Checksum': '14136922c56a247fcb91874fee385bc7', 'fileSize': '421000', 'quotaBytesUsed': '421000', 'ownerNames': ['Jeremy Hu'], 'owners': [{'kind': 'drive#user', 'displayName': 'Jeremy Hu', 'picture': {'url': 'https://lh6.googleusercontent.com/-9u_PQxQgXPQ/AAAAAAAAAAI/AAAAAAAAAQM/tfpCWK31OW4/s64/photo.jpg'}, 'isAuthenticatedUser': True, 'permissionId': '06964386243648299032', 'emailAddress': 'jrmh96@gmail.com'}], 'lastModifyingUserName': 'Jeremy Hu', 'lastModifyingUser': {'kind': 'drive#user', 'displayName': 'Jeremy Hu', 'picture': {'url': 'https://lh6.googleusercontent.com/-9u_PQxQgXPQ/AAAAAAAAAAI/AAAAAAAAAQM/tfpCWK31OW4/s64/photo.jpg'}, 'isAuthenticatedUser': True, 'permissionId': '06964386243648299032', 'emailAddress': 'jrmh96@gmail.com'}, 'capabilities': {'canCopy': True, 'canEdit': True}, 'editable': True, 'copyable': True, 'writersCanShare': True, 'shared': False, 'explicitlyTrashed': False, 'appDataContents': False, 'headRevisionId': '0B1G24Bl3O_IpQkViQlY2WVhiak1KSDdTWnB6eFI3SlU1d2g4PQ', 'imageMediaMetadata': {'width': 1024, 'height': 1024, 'rotation': 0}, 'spaces': ['drive']})\n",
            "downloading picture 3000 to /content/data/00014116_006.png\n",
            "GoogleDriveFile({'kind': 'drive#file', 'id': '1CEhETVTCnTczfqrwV6yCHLLaqQxHwIHK', 'etag': '\"x-uqYhsK1l_Hqse_91gdlDRJ7wk/MTUyNTgyMzgwMzQzMA\"', 'selfLink': 'https://www.googleapis.com/drive/v2/files/1CEhETVTCnTczfqrwV6yCHLLaqQxHwIHK', 'webContentLink': 'https://drive.google.com/uc?id=1CEhETVTCnTczfqrwV6yCHLLaqQxHwIHK&export=download', 'alternateLink': 'https://drive.google.com/file/d/1CEhETVTCnTczfqrwV6yCHLLaqQxHwIHK/view?usp=drivesdk', 'embedLink': 'https://drive.google.com/file/d/1CEhETVTCnTczfqrwV6yCHLLaqQxHwIHK/preview?usp=drivesdk', 'iconLink': 'https://drive-thirdparty.googleusercontent.com/16/type/image/png', 'thumbnailLink': 'https://lh3.googleusercontent.com/Hk9FdLYBSZFCeHSmF6liBnqAOsperSofv_cDUfWCvCs23ivlYNaXUEg0WxAcR2qwQfPPa9RkQvY=s220', 'title': '00014116_006.png', 'mimeType': 'image/png', 'labels': {'starred': False, 'hidden': False, 'trashed': False, 'restricted': False, 'viewed': True}, 'createdDate': '2018-05-08T23:56:43.430Z', 'modifiedDate': '2018-05-08T23:56:43.430Z', 'modifiedByMeDate': '2018-05-08T23:56:43.430Z', 'lastViewedByMeDate': '2018-05-08T23:56:43.430Z', 'markedViewedByMeDate': '1970-01-01T00:00:00.000Z', 'version': '2', 'parents': [{'kind': 'drive#parentReference', 'id': '1RvsaK1SUdZXL8JL-Z-aD3qevw-1UP5kQ', 'selfLink': 'https://www.googleapis.com/drive/v2/files/1CEhETVTCnTczfqrwV6yCHLLaqQxHwIHK/parents/1RvsaK1SUdZXL8JL-Z-aD3qevw-1UP5kQ', 'parentLink': 'https://www.googleapis.com/drive/v2/files/1RvsaK1SUdZXL8JL-Z-aD3qevw-1UP5kQ', 'isRoot': False}], 'downloadUrl': 'https://doc-14-1s-docs.googleusercontent.com/docs/securesc/efdd6losh6vkprdpbe1k3g8tr9luob7o/qipft67h86qu8u8e6g1ka34itc2nhrel/1526155200000/06964386243648299032/06964386243648299032/1CEhETVTCnTczfqrwV6yCHLLaqQxHwIHK?e=download&gd=true', 'userPermission': {'kind': 'drive#permission', 'etag': '\"x-uqYhsK1l_Hqse_91gdlDRJ7wk/c6foi-kKp1FBeufVolQhnmUuLjU\"', 'id': 'me', 'selfLink': 'https://www.googleapis.com/drive/v2/files/1CEhETVTCnTczfqrwV6yCHLLaqQxHwIHK/permissions/me', 'role': 'owner', 'type': 'user'}, 'originalFilename': '00014116_006.png', 'fileExtension': 'png', 'md5Checksum': '9e0f89fa8e8d30951c5390962af73888', 'fileSize': '400001', 'quotaBytesUsed': '400001', 'ownerNames': ['Jeremy Hu'], 'owners': [{'kind': 'drive#user', 'displayName': 'Jeremy Hu', 'picture': {'url': 'https://lh6.googleusercontent.com/-9u_PQxQgXPQ/AAAAAAAAAAI/AAAAAAAAAQM/tfpCWK31OW4/s64/photo.jpg'}, 'isAuthenticatedUser': True, 'permissionId': '06964386243648299032', 'emailAddress': 'jrmh96@gmail.com'}], 'lastModifyingUserName': 'Jeremy Hu', 'lastModifyingUser': {'kind': 'drive#user', 'displayName': 'Jeremy Hu', 'picture': {'url': 'https://lh6.googleusercontent.com/-9u_PQxQgXPQ/AAAAAAAAAAI/AAAAAAAAAQM/tfpCWK31OW4/s64/photo.jpg'}, 'isAuthenticatedUser': True, 'permissionId': '06964386243648299032', 'emailAddress': 'jrmh96@gmail.com'}, 'capabilities': {'canCopy': True, 'canEdit': True}, 'editable': True, 'copyable': True, 'writersCanShare': True, 'shared': False, 'explicitlyTrashed': False, 'appDataContents': False, 'headRevisionId': '0B1G24Bl3O_IpNWViOEM1eU1UQURxa1NUMlRybGZGUnJScjFNPQ', 'imageMediaMetadata': {'width': 1024, 'height': 1024, 'rotation': 0}, 'spaces': ['drive']})\n",
            "downloading picture 4000 to /content/data/00002003_008.png\n",
            "GoogleDriveFile({'kind': 'drive#file', 'id': '1DrX7884sMPsK9lkCuV9IWX6biTN9R0Hv', 'etag': '\"x-uqYhsK1l_Hqse_91gdlDRJ7wk/MTUyNTgyMzM3MzQxNg\"', 'selfLink': 'https://www.googleapis.com/drive/v2/files/1DrX7884sMPsK9lkCuV9IWX6biTN9R0Hv', 'webContentLink': 'https://drive.google.com/uc?id=1DrX7884sMPsK9lkCuV9IWX6biTN9R0Hv&export=download', 'alternateLink': 'https://drive.google.com/file/d/1DrX7884sMPsK9lkCuV9IWX6biTN9R0Hv/view?usp=drivesdk', 'embedLink': 'https://drive.google.com/file/d/1DrX7884sMPsK9lkCuV9IWX6biTN9R0Hv/preview?usp=drivesdk', 'iconLink': 'https://drive-thirdparty.googleusercontent.com/16/type/image/png', 'thumbnailLink': 'https://lh3.googleusercontent.com/63wTPyMa2sxoPiopPpuPViXYLkh5eZlITTNSs7ZeK8cP31zNs6Oub1GIgq_ootYP5WcrFDkAXvk=s220', 'title': '00002003_008.png', 'mimeType': 'image/png', 'labels': {'starred': False, 'hidden': False, 'trashed': False, 'restricted': False, 'viewed': True}, 'createdDate': '2018-05-08T23:49:33.416Z', 'modifiedDate': '2018-05-08T23:49:33.416Z', 'modifiedByMeDate': '2018-05-08T23:49:33.416Z', 'lastViewedByMeDate': '2018-05-08T23:49:33.416Z', 'markedViewedByMeDate': '1970-01-01T00:00:00.000Z', 'version': '2', 'parents': [{'kind': 'drive#parentReference', 'id': '1RvsaK1SUdZXL8JL-Z-aD3qevw-1UP5kQ', 'selfLink': 'https://www.googleapis.com/drive/v2/files/1DrX7884sMPsK9lkCuV9IWX6biTN9R0Hv/parents/1RvsaK1SUdZXL8JL-Z-aD3qevw-1UP5kQ', 'parentLink': 'https://www.googleapis.com/drive/v2/files/1RvsaK1SUdZXL8JL-Z-aD3qevw-1UP5kQ', 'isRoot': False}], 'downloadUrl': 'https://doc-10-1s-docs.googleusercontent.com/docs/securesc/efdd6losh6vkprdpbe1k3g8tr9luob7o/2o5lbhbgejeoinjp989haut0j4kbirvt/1526155200000/06964386243648299032/06964386243648299032/1DrX7884sMPsK9lkCuV9IWX6biTN9R0Hv?e=download&gd=true', 'userPermission': {'kind': 'drive#permission', 'etag': '\"x-uqYhsK1l_Hqse_91gdlDRJ7wk/871U_XKg2jZIKc123oOKtU8s_JQ\"', 'id': 'me', 'selfLink': 'https://www.googleapis.com/drive/v2/files/1DrX7884sMPsK9lkCuV9IWX6biTN9R0Hv/permissions/me', 'role': 'owner', 'type': 'user'}, 'originalFilename': '00002003_008.png', 'fileExtension': 'png', 'md5Checksum': '62e15a8ae03ae7dc1a2027d5c7b9bfb7', 'fileSize': '431434', 'quotaBytesUsed': '431434', 'ownerNames': ['Jeremy Hu'], 'owners': [{'kind': 'drive#user', 'displayName': 'Jeremy Hu', 'picture': {'url': 'https://lh6.googleusercontent.com/-9u_PQxQgXPQ/AAAAAAAAAAI/AAAAAAAAAQM/tfpCWK31OW4/s64/photo.jpg'}, 'isAuthenticatedUser': True, 'permissionId': '06964386243648299032', 'emailAddress': 'jrmh96@gmail.com'}], 'lastModifyingUserName': 'Jeremy Hu', 'lastModifyingUser': {'kind': 'drive#user', 'displayName': 'Jeremy Hu', 'picture': {'url': 'https://lh6.googleusercontent.com/-9u_PQxQgXPQ/AAAAAAAAAAI/AAAAAAAAAQM/tfpCWK31OW4/s64/photo.jpg'}, 'isAuthenticatedUser': True, 'permissionId': '06964386243648299032', 'emailAddress': 'jrmh96@gmail.com'}, 'capabilities': {'canCopy': True, 'canEdit': True}, 'editable': True, 'copyable': True, 'writersCanShare': True, 'shared': False, 'explicitlyTrashed': False, 'appDataContents': False, 'headRevisionId': '0B1G24Bl3O_IpZ0FiU2MzMVdBOERtdzZzQmNKQjJGUktqaThjPQ', 'imageMediaMetadata': {'width': 1024, 'height': 1024, 'rotation': 0}, 'spaces': ['drive']})\n",
            "downloading picture 5000 to /content/data/00014571_002.png\n",
            "GoogleDriveFile({'kind': 'drive#file', 'id': '1_l2qSxUPefV4HkcdAEy-cQpsUVm9Anpn', 'etag': '\"x-uqYhsK1l_Hqse_91gdlDRJ7wk/MTUyNTgyMzA4NTM1Nw\"', 'selfLink': 'https://www.googleapis.com/drive/v2/files/1_l2qSxUPefV4HkcdAEy-cQpsUVm9Anpn', 'webContentLink': 'https://drive.google.com/uc?id=1_l2qSxUPefV4HkcdAEy-cQpsUVm9Anpn&export=download', 'alternateLink': 'https://drive.google.com/file/d/1_l2qSxUPefV4HkcdAEy-cQpsUVm9Anpn/view?usp=drivesdk', 'embedLink': 'https://drive.google.com/file/d/1_l2qSxUPefV4HkcdAEy-cQpsUVm9Anpn/preview?usp=drivesdk', 'iconLink': 'https://drive-thirdparty.googleusercontent.com/16/type/image/png', 'thumbnailLink': 'https://lh3.googleusercontent.com/weXBdfjrtuV__5xfGtp17VOgIX4CouiheOHAkGCYrfUF0B_Fr0GUNqdu8E4mGLSn6LSLkwt8pgE=s220', 'title': '00014571_002.png', 'mimeType': 'image/png', 'labels': {'starred': False, 'hidden': False, 'trashed': False, 'restricted': False, 'viewed': True}, 'createdDate': '2018-05-08T23:44:45.357Z', 'modifiedDate': '2018-05-08T23:44:45.357Z', 'modifiedByMeDate': '2018-05-08T23:44:45.357Z', 'lastViewedByMeDate': '2018-05-08T23:44:45.357Z', 'markedViewedByMeDate': '1970-01-01T00:00:00.000Z', 'version': '2', 'parents': [{'kind': 'drive#parentReference', 'id': '1RvsaK1SUdZXL8JL-Z-aD3qevw-1UP5kQ', 'selfLink': 'https://www.googleapis.com/drive/v2/files/1_l2qSxUPefV4HkcdAEy-cQpsUVm9Anpn/parents/1RvsaK1SUdZXL8JL-Z-aD3qevw-1UP5kQ', 'parentLink': 'https://www.googleapis.com/drive/v2/files/1RvsaK1SUdZXL8JL-Z-aD3qevw-1UP5kQ', 'isRoot': False}], 'downloadUrl': 'https://doc-0o-1s-docs.googleusercontent.com/docs/securesc/efdd6losh6vkprdpbe1k3g8tr9luob7o/ttsgpav6lhqha39is8tdu2p58p4qbh1t/1526155200000/06964386243648299032/06964386243648299032/1_l2qSxUPefV4HkcdAEy-cQpsUVm9Anpn?e=download&gd=true', 'userPermission': {'kind': 'drive#permission', 'etag': '\"x-uqYhsK1l_Hqse_91gdlDRJ7wk/lI3yAosQYO7sfYiEjn6ZA2QVmpU\"', 'id': 'me', 'selfLink': 'https://www.googleapis.com/drive/v2/files/1_l2qSxUPefV4HkcdAEy-cQpsUVm9Anpn/permissions/me', 'role': 'owner', 'type': 'user'}, 'originalFilename': '00014571_002.png', 'fileExtension': 'png', 'md5Checksum': 'e6968d059ed2efa48ea9b47514c4c128', 'fileSize': '386232', 'quotaBytesUsed': '386232', 'ownerNames': ['Jeremy Hu'], 'owners': [{'kind': 'drive#user', 'displayName': 'Jeremy Hu', 'picture': {'url': 'https://lh6.googleusercontent.com/-9u_PQxQgXPQ/AAAAAAAAAAI/AAAAAAAAAQM/tfpCWK31OW4/s64/photo.jpg'}, 'isAuthenticatedUser': True, 'permissionId': '06964386243648299032', 'emailAddress': 'jrmh96@gmail.com'}], 'lastModifyingUserName': 'Jeremy Hu', 'lastModifyingUser': {'kind': 'drive#user', 'displayName': 'Jeremy Hu', 'picture': {'url': 'https://lh6.googleusercontent.com/-9u_PQxQgXPQ/AAAAAAAAAAI/AAAAAAAAAQM/tfpCWK31OW4/s64/photo.jpg'}, 'isAuthenticatedUser': True, 'permissionId': '06964386243648299032', 'emailAddress': 'jrmh96@gmail.com'}, 'capabilities': {'canCopy': True, 'canEdit': True}, 'editable': True, 'copyable': True, 'writersCanShare': True, 'shared': False, 'explicitlyTrashed': False, 'appDataContents': False, 'headRevisionId': '0B1G24Bl3O_IpMERScEtWVndKYjlUTXE0ajBkUGkrb3RGV1M0PQ', 'imageMediaMetadata': {'width': 1024, 'height': 1024, 'rotation': 0}, 'spaces': ['drive']})\n"
          ],
          "name": "stdout"
        }
      ]
    },
    {
      "metadata": {
        "id": "h9PY13izpe7I",
        "colab_type": "text"
      },
      "cell_type": "markdown",
      "source": [
        "**Image Size: **"
      ]
    },
    {
      "metadata": {
        "id": "p5nvqYKzpjwC",
        "colab_type": "code",
        "colab": {}
      },
      "cell_type": "code",
      "source": [
        "HEIGHT=128\n",
        "WIDTH = 128\n",
        "CHANNELS = 3\n",
        "LR = 0.05\n",
        "EPOCHS = 10\n",
        "B = 23"
      ],
      "execution_count": 0,
      "outputs": []
    },
    {
      "metadata": {
        "id": "YJc0cosxpzZJ",
        "colab_type": "code",
        "colab": {
          "base_uri": "https://localhost:8080/",
          "height": 136
        },
        "outputId": "1a1a64a8-c332-4833-c903-60de6d4541c5"
      },
      "cell_type": "code",
      "source": [
        "LABELPATH = '/content/data/sample_label.csv'\n",
        "\n",
        "IMAGEPATH = '/content/data'\n",
        "\n",
        "labels_df = pd.read_csv(LABELPATH)\n",
        "\n",
        "labels = []\n",
        "\n",
        "data = []\n",
        "\n",
        "label = labels_df['Finding Labels']\n",
        "paths = labels_df['Image Index']\n",
        "i = 0\n",
        "j = 0\n",
        "for p in paths:\n",
        "  l = label[i]\n",
        "  pfull = IMAGEPATH+\"/\"+p\n",
        "  img = cv2.imread(pfull)\n",
        "  if i%1000 == 0:\n",
        "    print('Reading image {} from {}'. format(i+1, pfull))\n",
        "  if(type(img) == np.ndarray):\n",
        "  #resize image and add to data set\n",
        "    img = cv2.resize(img, (HEIGHT, WIDTH))\n",
        "    data.append(img)\n",
        "    #split labels and add to label set\n",
        "    l = l.split(\"|\")\n",
        "    labels.append(l)\n",
        "    j+=1\n",
        "  else:\n",
        "    print(type(img))\n",
        "  i+=1\n",
        "\n",
        "#scale pixel intensities to between 0 and 1\n",
        "data = np.array(data, dtype=\"float64\")/255.0\n",
        "labels = np.array(labels)\n",
        "\n",
        "print('Loaded {} images'.format(j))\n"
      ],
      "execution_count": 6,
      "outputs": [
        {
          "output_type": "stream",
          "text": [
            "Reading image 1 from /content/data/00000013_005.png\n",
            "Reading image 1001 from /content/data/00005220_005.png\n",
            "Reading image 2001 from /content/data/00010447_004.png\n",
            "Reading image 3001 from /content/data/00014764_004.png\n",
            "Reading image 4001 from /content/data/00019754_002.png\n",
            "Reading image 5001 from /content/data/00026400_000.png\n",
            "Loaded 5606 images\n"
          ],
          "name": "stdout"
        }
      ]
    },
    {
      "metadata": {
        "id": "cKgI7Tds0Ov7",
        "colab_type": "code",
        "colab": {
          "base_uri": "https://localhost:8080/",
          "height": 51
        },
        "outputId": "e602b1f4-24da-4614-ab22-b7776935c965"
      },
      "cell_type": "code",
      "source": [
        "print(data.shape)\n",
        "print(labels.size)"
      ],
      "execution_count": 7,
      "outputs": [
        {
          "output_type": "stream",
          "text": [
            "(5606, 128, 128, 3)\n",
            "5606\n"
          ],
          "name": "stdout"
        }
      ]
    },
    {
      "metadata": {
        "id": "0YbnztCJ0UPU",
        "colab_type": "code",
        "colab": {}
      },
      "cell_type": "code",
      "source": [
        "# convert labels from strings into binary with scikit\n",
        "# n-hot encoding\n",
        "mlb = MultiLabelBinarizer()\n",
        "labels = mlb.fit_transform(labels)"
      ],
      "execution_count": 0,
      "outputs": []
    },
    {
      "metadata": {
        "id": "ogoqu1Haezbj",
        "colab_type": "code",
        "colab": {}
      },
      "cell_type": "code",
      "source": [
        "VAL_SPLIT = 0.15\n",
        "\n",
        "(trainX_1, testX, trainY_1, testY) = train_test_split(data, labels, test_size = test_split, random_state = R)\n",
        "\n",
        "perm = np.random.permutation(len(trainX_1))\n",
        "v = int(len(trainX_1)*(1-VAL_SPLIT))\n",
        "indTrain = perm[:v]\n",
        "indVal = perm[v:]\n",
        "\n",
        "trainX = trainX_1[indTrain]\n",
        "trainY = trainY_1[indTrain]\n",
        "\n",
        "valX = trainX_1[indVal]\n",
        "valY = trainY_1[indVal]\n"
      ],
      "execution_count": 0,
      "outputs": []
    },
    {
      "metadata": {
        "id": "2dzW-nVR0aA3",
        "colab_type": "code",
        "colab": {}
      },
      "cell_type": "code",
      "source": [
        "\n",
        "# define image generator\n",
        "imagegen = ImageDataGenerator(rotation_range=25, width_shift_range=0.1, height_shift_range=0.1, shear_range=0.2,\n",
        "                        zoom_range=0.2, horizontal_flip=True, fill_mode=\"nearest\")\n",
        "\n",
        "#imagegen.fit(trainX) --> runs out of memory"
      ],
      "execution_count": 0,
      "outputs": []
    },
    {
      "metadata": {
        "id": "XHzfe18Lhjt-",
        "colab_type": "code",
        "colab": {}
      },
      "cell_type": "code",
      "source": [
        "from keras.models import Sequential\n",
        "from keras.layers.normalization import BatchNormalization\n",
        "from keras.layers.convolutional import Conv2D\n",
        "from keras.layers.convolutional import MaxPooling2D\n",
        "from keras.layers.core import Activation\n",
        "from keras.layers.core import Flatten\n",
        "from keras.layers.core import Dropout\n",
        "from keras.layers.core import Dense"
      ],
      "execution_count": 0,
      "outputs": []
    },
    {
      "metadata": {
        "id": "cyi-VlrR0eiG",
        "colab_type": "code",
        "colab": {}
      },
      "cell_type": "code",
      "source": [
        "\n",
        "\n",
        "def buildModel(height, width, channels, classes):\n",
        "  model=Sequential()\n",
        "  inputShape=(height, width, channels)\n",
        "  \n",
        "  #First convolution block: 64 filters * 2\n",
        "  model.add(Conv2D(64, (3,3), padding=\"same\", input_shape=inputShape))\n",
        "  model.add(Activation(\"relu\"))\n",
        "  model.add(BatchNormalization(axis=-1))\n",
        "  \n",
        "  model.add(Conv2D(64, (3,3), padding=\"same\", input_shape=inputShape))\n",
        "  model.add(Activation(\"relu\"))\n",
        "  model.add(BatchNormalization(axis=-1))\n",
        "  \n",
        "  model.add(MaxPooling2D(pool_size=(3,3)))\n",
        "  model.add(Dropout(0.3))\n",
        "  \n",
        "  #Second convolution block: 128 filters\n",
        "  model.add(Conv2D(128, (3,3), padding=\"same\", input_shape=inputShape))\n",
        "  model.add(Activation(\"relu\"))\n",
        "  model.add(BatchNormalization(axis=-1))\n",
        "  \n",
        "  model.add(Conv2D(128, (3,3), padding=\"same\", input_shape=inputShape))\n",
        "  model.add(Activation(\"relu\"))\n",
        "  model.add(BatchNormalization(axis=-1))\n",
        "  \n",
        "  model.add(MaxPooling2D(pool_size=(3,3)))\n",
        "  model.add(Dropout(0.3))\n",
        "  \n",
        "  # Flatten output into fc layers\n",
        "  \n",
        "  model.add(Flatten())\n",
        "  model.add(Dense(1024))\n",
        "  model.add(Activation(\"relu\"))\n",
        "  model.add(BatchNormalization())\n",
        "  model.add(Dropout(0.4))\n",
        "  \n",
        "  model.add(Dense(classes))\n",
        "  model.add(Activation(\"softmax\"))\n",
        "  \n",
        "  return model"
      ],
      "execution_count": 0,
      "outputs": []
    },
    {
      "metadata": {
        "id": "dLwKXPF0AYhv",
        "colab_type": "code",
        "colab": {
          "base_uri": "https://localhost:8080/",
          "height": 394
        },
        "outputId": "0d95fac8-2c8b-4749-cab2-114da20167db"
      },
      "cell_type": "code",
      "source": [
        "model=buildModel(height=HEIGHT, width=WIDTH, channels = 3, classes = len(mlb.classes_))\n",
        "sgd = SGD(lr = LR)\n",
        "model.compile(loss=\"binary_crossentropy\", optimizer=sgd, metrics=[\"accuracy\", \"categorical_accuracy\"])\n",
        "\n",
        "print(\"Beginning Training\")\n",
        "\n",
        "H = model.fit_generator(imagegen.flow(trainX, trainY, batch_size=B), validation_data=(valX, valY), steps_per_epoch=len(trainX)//B, epochs = EPOCHS, verbose=1)\n"
      ],
      "execution_count": 24,
      "outputs": [
        {
          "output_type": "stream",
          "text": [
            "Beginning Training\n",
            "Epoch 1/10\n",
            "145/145 [==============================] - 28s 192ms/step - loss: 0.3612 - acc: 0.9092 - categorical_accuracy: 0.1556 - val_loss: 0.2949 - val_acc: 0.9156 - val_categorical_accuracy: 0.2258\n",
            "Epoch 2/10\n",
            "145/145 [==============================] - 26s 178ms/step - loss: 0.3171 - acc: 0.9143 - categorical_accuracy: 0.2150 - val_loss: 0.2769 - val_acc: 0.9173 - val_categorical_accuracy: 0.2971\n",
            "Epoch 3/10\n",
            " 54/145 [==========>...................] - ETA: 15s - loss: 0.2906 - acc: 0.9204 - categorical_accuracy: 0.2721"
          ],
          "name": "stdout"
        },
        {
          "output_type": "stream",
          "text": [
            "145/145 [==============================] - 26s 179ms/step - loss: 0.2917 - acc: 0.9181 - categorical_accuracy: 0.2813 - val_loss: 0.2442 - val_acc: 0.9187 - val_categorical_accuracy: 0.4890\n",
            "Epoch 4/10\n",
            "145/145 [==============================] - 26s 179ms/step - loss: 0.2750 - acc: 0.9191 - categorical_accuracy: 0.3190 - val_loss: 0.2551 - val_acc: 0.9187 - val_categorical_accuracy: 0.4363\n",
            "Epoch 5/10\n",
            " 86/145 [================>.............] - ETA: 9s - loss: 0.2686 - acc: 0.9200 - categorical_accuracy: 0.3584 "
          ],
          "name": "stdout"
        },
        {
          "output_type": "stream",
          "text": [
            "145/145 [==============================] - 26s 179ms/step - loss: 0.2643 - acc: 0.9204 - categorical_accuracy: 0.3604 - val_loss: 0.2481 - val_acc: 0.9190 - val_categorical_accuracy: 0.4822\n",
            "Epoch 6/10\n",
            "145/145 [==============================] - 26s 179ms/step - loss: 0.2587 - acc: 0.9200 - categorical_accuracy: 0.3802 - val_loss: 0.2275 - val_acc: 0.9225 - val_categorical_accuracy: 0.5246\n",
            "Epoch 7/10\n",
            " 93/145 [==================>...........] - ETA: 8s - loss: 0.2427 - acc: 0.9231 - categorical_accuracy: 0.4296"
          ],
          "name": "stdout"
        },
        {
          "output_type": "stream",
          "text": [
            "145/145 [==============================] - 26s 180ms/step - loss: 0.2451 - acc: 0.9219 - categorical_accuracy: 0.4282 - val_loss: 0.2253 - val_acc: 0.9216 - val_categorical_accuracy: 0.5212\n",
            "Epoch 8/10\n",
            "145/145 [==============================] - 26s 178ms/step - loss: 0.2452 - acc: 0.9222 - categorical_accuracy: 0.4327 - val_loss: 0.2264 - val_acc: 0.9229 - val_categorical_accuracy: 0.5144\n",
            "Epoch 9/10\n",
            " 95/145 [==================>...........] - ETA: 8s - loss: 0.2435 - acc: 0.9220 - categorical_accuracy: 0.4476"
          ],
          "name": "stdout"
        },
        {
          "output_type": "stream",
          "text": [
            "145/145 [==============================] - 26s 177ms/step - loss: 0.2422 - acc: 0.9220 - categorical_accuracy: 0.4468 - val_loss: 0.2289 - val_acc: 0.9220 - val_categorical_accuracy: 0.5331\n",
            "Epoch 10/10\n",
            "145/145 [==============================] - 26s 180ms/step - loss: 0.2386 - acc: 0.9224 - categorical_accuracy: 0.4633 - val_loss: 0.2280 - val_acc: 0.9202 - val_categorical_accuracy: 0.5195\n"
          ],
          "name": "stdout"
        }
      ]
    },
    {
      "metadata": {
        "id": "9qFEo7WAkP8l",
        "colab_type": "code",
        "colab": {}
      },
      "cell_type": "code",
      "source": [
        "auth.authenticate_user()\n",
        "gauth = GoogleAuth()\n",
        "gauth.credentials = GoogleCredentials.get_application_default()\n",
        "drive = GoogleDrive(gauth)"
      ],
      "execution_count": 0,
      "outputs": []
    },
    {
      "metadata": {
        "id": "s419-88BkRUu",
        "colab_type": "code",
        "colab": {}
      },
      "cell_type": "code",
      "source": [
        "upload = drive.CreateFile({'title': 'sampleUpload.txt'})\n",
        "upload.SetContentString('Sample Upload File Content')\n",
        "upload.Upload()"
      ],
      "execution_count": 0,
      "outputs": []
    },
    {
      "metadata": {
        "id": "GuNMt2GIozF3",
        "colab_type": "code",
        "colab": {}
      },
      "cell_type": "code",
      "source": [
        "from google.colab import files"
      ],
      "execution_count": 0,
      "outputs": []
    },
    {
      "metadata": {
        "id": "5CWg7YfNjSbg",
        "colab_type": "code",
        "colab": {}
      },
      "cell_type": "code",
      "source": [
        "#save model to json\n",
        "model_json = model.to_json()\n",
        "with open(\"model.json\", \"w\") as json_file:\n",
        "  json_file.write(model_json)\n",
        "files.download(\"model.json\")\n"
      ],
      "execution_count": 0,
      "outputs": []
    },
    {
      "metadata": {
        "id": "-kDMYzoZpDer",
        "colab_type": "code",
        "colab": {}
      },
      "cell_type": "code",
      "source": [
        "#save weights to hdf5\n",
        "model.save(\"weights.h5\")\n",
        "uploaded = drive.CreateFile({'title': 'weights.h5'})\n",
        "uploaded.SetContentFile('weights.h5')\n",
        "uploaded.Upload()"
      ],
      "execution_count": 0,
      "outputs": []
    },
    {
      "metadata": {
        "id": "ZLJayKrcl6a9",
        "colab_type": "code",
        "colab": {
          "base_uri": "https://localhost:8080/",
          "height": 397
        },
        "outputId": "8832c59f-610c-4f00-dbd6-b2ff546f94c7"
      },
      "cell_type": "code",
      "source": [
        "plt.style.use(\"ggplot\")\n",
        "plt.figure()\n",
        "plt.plot(np.arange(0,EPOCHS), H.history[\"loss\"], label=\"train loss\")\n",
        "plt.plot(np.arange(0,EPOCHS), H.history[\"val_loss\"], label=\"validation loss\")\n",
        "plt.plot(np.arange(0, EPOCHS), H.history[\"acc\"], label=\"train accuracy\")\n",
        "plt.plot(np.arange(0, EPOCHS), H.history[\"val_acc\"], label=\"validation accuracy\")\n",
        "\n",
        "plt.title(\"Training Loss and Accuracy\")\n",
        "plt.xlabel(\"Epoch #\")\n",
        "plt.ylabel(\"Loss/Accuracy\")\n",
        "plt.legend(loc=\"center right\")\n",
        "\n"
      ],
      "execution_count": 40,
      "outputs": [
        {
          "output_type": "execute_result",
          "data": {
            "text/plain": [
              "<matplotlib.legend.Legend at 0x7fab95775a20>"
            ]
          },
          "metadata": {
            "tags": []
          },
          "execution_count": 40
        },
        {
          "output_type": "display_data",
          "data": {
            "image/png": "[encoded data removed]",
            "text/plain": [
              "<matplotlib.figure.Figure at 0x7fabace3fe80>"
            ]
          },
          "metadata": {
            "tags": []
          }
        }
      ]
    }
  ]
}